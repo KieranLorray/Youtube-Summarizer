{
  "nbformat": 4,
  "nbformat_minor": 0,
  "metadata": {
    "colab": {
      "provenance": []
    },
    "kernelspec": {
      "name": "python3",
      "display_name": "Python 3"
    },
    "language_info": {
      "name": "python"
    }
  },
  "cells": [
    {
      "cell_type": "markdown",
      "source": [
        "Dependency install"
      ],
      "metadata": {
        "id": "ttM5IzVisCNg"
      }
    },
    {
      "cell_type": "code",
      "source": [
        "!pip install pytube\n",
        "!pip install sse_starlette\n",
        "!pip install youtube_transcript_api\n",
        "!pip install -q -U google-generativeai"
      ],
      "metadata": {
        "id": "Od-FZNDRrYlv"
      },
      "execution_count": null,
      "outputs": []
    },
    {
      "cell_type": "markdown",
      "source": [
        "API key setup:"
      ],
      "metadata": {
        "id": "p0k1-Z3asKiY"
      }
    },
    {
      "cell_type": "code",
      "execution_count": null,
      "metadata": {
        "id": "-t5gdG0Pqvu-"
      },
      "outputs": [],
      "source": [
        "import pathlib\n",
        "import textwrap\n",
        "\n",
        "import google.generativeai as genai\n",
        "\n",
        "\n",
        "# Used to securely store your API key\n",
        "from google.colab import userdata\n",
        "\n",
        "# Or use `os.getenv('GOOGLE_API_KEY')` to fetch an environment variable.\n",
        "GOOGLE_API_KEY=userdata.get('GOOGLE_API_KEY')\n",
        "\n",
        "genai.configure(api_key=GOOGLE_API_KEY)\n",
        "\n",
        "model = genai.GenerativeModel('gemini-1.5-flash')\n",
        "\n"
      ]
    },
    {
      "cell_type": "markdown",
      "source": [
        "Program Logic:"
      ],
      "metadata": {
        "id": "vYSNyw_Ts0Ag"
      }
    },
    {
      "cell_type": "code",
      "source": [
        "from pytube import YouTube\n",
        "from pytube.helpers import RegexMatchError\n",
        "from youtube_transcript_api import YouTubeTranscriptApi\n",
        "from youtube_transcript_api._errors import TranscriptsDisabled\n",
        "import pathlib\n",
        "import textwrap\n",
        "\n",
        "import google.generativeai as genai\n",
        "\n",
        "from IPython.display import display\n",
        "from IPython.display import Markdown\n",
        "\n",
        "\n",
        "def to_markdown(text):\n",
        "  text = text.replace('•', '  *')\n",
        "  return Markdown(textwrap.indent(text, '> ', predicate=lambda _: True))\n",
        "\n",
        "# In-memory cache for transcripts\n",
        "transcript_cache = {}\n",
        "\n",
        "\n",
        "def get_summary_prompt(transcript: str):\n",
        "    return f\"\"\"\n",
        "You are the YouTube Summarizer that specializes in summarizing videos shorter than 20\n",
        "minutes and responding to questions about the video.\n",
        "\n",
        "What follows is the transcript of a YouTube video. Please provide a summarization of the video\n",
        "using bullet points.\n",
        "\n",
        "Transcript: {transcript}\"\"\"\n",
        "\n",
        "\n",
        "def get_video_object(link: str):\n",
        "    try:\n",
        "        return YouTube(link)\n",
        "    except RegexMatchError:\n",
        "        return None\n",
        "\n",
        "\n",
        "def compute_transcript_text(video_id: str):\n",
        "    raw_transcript = YouTubeTranscriptApi.get_transcript(video_id)\n",
        "    text_transcript = \"\\n\".join([item[\"text\"] for item in raw_transcript])\n",
        "    return text_transcript\n",
        "\n",
        "\n",
        "def get_cached_video_transcript(video_id: str):\n",
        "    return transcript_cache.get(video_id)\n",
        "\n",
        "\n",
        "def cache_video_transcript(video_id: str, transcript: str):\n",
        "    transcript_cache[video_id] = transcript\n",
        "\n",
        "\n",
        "def get_video_transcript(video: YouTube):\n",
        "    video_id = video.video_id\n",
        "    cached_transcript = get_cached_video_transcript(video_id)\n",
        "    if cached_transcript:\n",
        "        return cached_transcript\n",
        "\n",
        "    transcript = compute_transcript_text(video_id)\n",
        "    cache_video_transcript(video_id, transcript)\n",
        "    return transcript\n",
        "\n",
        "\n",
        "def summarize_video(link: str):\n",
        "    video = get_video_object(link)\n",
        "    if not video:\n",
        "        return \"Invalid video URL.\"\n",
        "\n",
        "\n",
        "    try:\n",
        "        transcript = get_video_transcript(video)\n",
        "    except TranscriptsDisabled:\n",
        "        return \"Error: Transcripts are disabled for this video. Please provide a new video URL.\"\n",
        "\n",
        "    # Assuming you have an external function or API for summarization, you would call it here.\n",
        "    # For now, we'll just simulate this by returning the transcript as-is for simplicity.\n",
        "    summary_prompt = get_summary_prompt(transcript)\n",
        "\n",
        "    # Summarization\n",
        "    summary = \"\\n\".join(summary_prompt.split(\"\\n\"))\n",
        "\n",
        "    response = chat.send_message(summary)\n",
        "\n",
        "\n",
        "    return response"
      ],
      "metadata": {
        "id": "NfQJocvBrjys"
      },
      "execution_count": null,
      "outputs": []
    },
    {
      "cell_type": "markdown",
      "source": [
        "Runtime loop:"
      ],
      "metadata": {
        "id": "nRnsTajEr9S3"
      }
    },
    {
      "cell_type": "code",
      "source": [
        "while True:\n",
        "  query = input()\n",
        "  summary = summarize_video(query)\n",
        "  md_summary = to_markdown(summary.text)\n",
        "  display(md_summary)\n",
        "\n"
      ],
      "metadata": {
        "id": "YbSYEkvkr58f"
      },
      "execution_count": null,
      "outputs": []
    }
  ]
}